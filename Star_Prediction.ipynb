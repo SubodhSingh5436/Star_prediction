{
 "cells": [
  {
   "cell_type": "code",
   "execution_count": 1,
   "id": "8d4382df",
   "metadata": {},
   "outputs": [],
   "source": [
    "import numpy as np\n",
    "import pandas as pd\n",
    "import seaborn as sns\n",
    "import matplotlib.pyplot as plt\n",
    "import os\n",
    "%matplotlib inline"
   ]
  },
  {
   "cell_type": "code",
   "execution_count": 2,
   "id": "11f68cd8",
   "metadata": {},
   "outputs": [],
   "source": [
    "os.chdir('C:\\\\Users\\\\Subod\\\\OneDrive\\\\Desktop\\\\nebulanet')"
   ]
  },
  {
   "cell_type": "code",
   "execution_count": 3,
   "id": "10e264d0",
   "metadata": {},
   "outputs": [
    {
     "data": {
      "text/html": [
       "<div>\n",
       "<style scoped>\n",
       "    .dataframe tbody tr th:only-of-type {\n",
       "        vertical-align: middle;\n",
       "    }\n",
       "\n",
       "    .dataframe tbody tr th {\n",
       "        vertical-align: top;\n",
       "    }\n",
       "\n",
       "    .dataframe thead th {\n",
       "        text-align: right;\n",
       "    }\n",
       "</style>\n",
       "<table border=\"1\" class=\"dataframe\">\n",
       "  <thead>\n",
       "    <tr style=\"text-align: right;\">\n",
       "      <th></th>\n",
       "      <th>Temperature (K)</th>\n",
       "      <th>Luminosity(L/Lo)</th>\n",
       "      <th>Radius(R/Ro)</th>\n",
       "      <th>Absolute magnitude(Mv)</th>\n",
       "      <th>Star type</th>\n",
       "      <th>Star color</th>\n",
       "      <th>Spectral Class</th>\n",
       "    </tr>\n",
       "  </thead>\n",
       "  <tbody>\n",
       "    <tr>\n",
       "      <th>0</th>\n",
       "      <td>3068</td>\n",
       "      <td>0.002400</td>\n",
       "      <td>0.1700</td>\n",
       "      <td>16.12</td>\n",
       "      <td>Umber Dwarfs</td>\n",
       "      <td>Red</td>\n",
       "      <td>M</td>\n",
       "    </tr>\n",
       "    <tr>\n",
       "      <th>1</th>\n",
       "      <td>3042</td>\n",
       "      <td>0.000500</td>\n",
       "      <td>0.1542</td>\n",
       "      <td>16.60</td>\n",
       "      <td>Umber Dwarfs</td>\n",
       "      <td>Red</td>\n",
       "      <td>M</td>\n",
       "    </tr>\n",
       "    <tr>\n",
       "      <th>2</th>\n",
       "      <td>2600</td>\n",
       "      <td>0.000300</td>\n",
       "      <td>0.1020</td>\n",
       "      <td>18.70</td>\n",
       "      <td>Umber Dwarfs</td>\n",
       "      <td>Red</td>\n",
       "      <td>M</td>\n",
       "    </tr>\n",
       "    <tr>\n",
       "      <th>3</th>\n",
       "      <td>2800</td>\n",
       "      <td>0.000200</td>\n",
       "      <td>0.1600</td>\n",
       "      <td>16.65</td>\n",
       "      <td>Umber Dwarfs</td>\n",
       "      <td>Red</td>\n",
       "      <td>M</td>\n",
       "    </tr>\n",
       "    <tr>\n",
       "      <th>4</th>\n",
       "      <td>1939</td>\n",
       "      <td>0.000138</td>\n",
       "      <td>0.1030</td>\n",
       "      <td>20.06</td>\n",
       "      <td>Umber Dwarfs</td>\n",
       "      <td>Red</td>\n",
       "      <td>M</td>\n",
       "    </tr>\n",
       "  </tbody>\n",
       "</table>\n",
       "</div>"
      ],
      "text/plain": [
       "   Temperature (K)  Luminosity(L/Lo)  Radius(R/Ro)  Absolute magnitude(Mv)  \\\n",
       "0             3068          0.002400        0.1700                   16.12   \n",
       "1             3042          0.000500        0.1542                   16.60   \n",
       "2             2600          0.000300        0.1020                   18.70   \n",
       "3             2800          0.000200        0.1600                   16.65   \n",
       "4             1939          0.000138        0.1030                   20.06   \n",
       "\n",
       "      Star type Star color Spectral Class  \n",
       "0  Umber Dwarfs        Red              M  \n",
       "1  Umber Dwarfs        Red              M  \n",
       "2  Umber Dwarfs        Red              M  \n",
       "3  Umber Dwarfs        Red              M  \n",
       "4  Umber Dwarfs        Red              M  "
      ]
     },
     "execution_count": 3,
     "metadata": {},
     "output_type": "execute_result"
    }
   ],
   "source": [
    "df_train = pd.read_csv('train.csv')\n",
    "df_train.head() # to display the first 5 rows of the dataframe"
   ]
  },
  {
   "cell_type": "code",
   "execution_count": 4,
   "id": "2c87822e",
   "metadata": {},
   "outputs": [
    {
     "data": {
      "text/plain": [
       "(216, 7)"
      ]
     },
     "execution_count": 4,
     "metadata": {},
     "output_type": "execute_result"
    }
   ],
   "source": [
    "df_train.shape # dimensions of the dataframe"
   ]
  },
  {
   "cell_type": "code",
   "execution_count": 5,
   "id": "22352970",
   "metadata": {},
   "outputs": [
    {
     "name": "stdout",
     "output_type": "stream",
     "text": [
      "<class 'pandas.core.frame.DataFrame'>\n",
      "RangeIndex: 216 entries, 0 to 215\n",
      "Data columns (total 7 columns):\n",
      " #   Column                  Non-Null Count  Dtype  \n",
      "---  ------                  --------------  -----  \n",
      " 0   Temperature (K)         216 non-null    int64  \n",
      " 1   Luminosity(L/Lo)        216 non-null    float64\n",
      " 2   Radius(R/Ro)            216 non-null    float64\n",
      " 3   Absolute magnitude(Mv)  216 non-null    float64\n",
      " 4   Star type               216 non-null    object \n",
      " 5   Star color              216 non-null    object \n",
      " 6   Spectral Class          216 non-null    object \n",
      "dtypes: float64(3), int64(1), object(3)\n",
      "memory usage: 11.9+ KB\n"
     ]
    }
   ],
   "source": [
    "df_train.info() # information about the dataframe"
   ]
  },
  {
   "cell_type": "code",
   "execution_count": 6,
   "id": "63b43043",
   "metadata": {},
   "outputs": [
    {
     "data": {
      "text/html": [
       "<div>\n",
       "<style scoped>\n",
       "    .dataframe tbody tr th:only-of-type {\n",
       "        vertical-align: middle;\n",
       "    }\n",
       "\n",
       "    .dataframe tbody tr th {\n",
       "        vertical-align: top;\n",
       "    }\n",
       "\n",
       "    .dataframe thead th {\n",
       "        text-align: right;\n",
       "    }\n",
       "</style>\n",
       "<table border=\"1\" class=\"dataframe\">\n",
       "  <thead>\n",
       "    <tr style=\"text-align: right;\">\n",
       "      <th></th>\n",
       "      <th>Temperature (K)</th>\n",
       "      <th>Luminosity(L/Lo)</th>\n",
       "      <th>Radius(R/Ro)</th>\n",
       "      <th>Absolute magnitude(Mv)</th>\n",
       "    </tr>\n",
       "  </thead>\n",
       "  <tbody>\n",
       "    <tr>\n",
       "      <th>count</th>\n",
       "      <td>216.000000</td>\n",
       "      <td>216.000000</td>\n",
       "      <td>216.000000</td>\n",
       "      <td>216.000000</td>\n",
       "    </tr>\n",
       "    <tr>\n",
       "      <th>mean</th>\n",
       "      <td>10211.055556</td>\n",
       "      <td>101421.163769</td>\n",
       "      <td>223.778661</td>\n",
       "      <td>4.528634</td>\n",
       "    </tr>\n",
       "    <tr>\n",
       "      <th>std</th>\n",
       "      <td>9214.606535</td>\n",
       "      <td>172474.272121</td>\n",
       "      <td>504.416657</td>\n",
       "      <td>10.475934</td>\n",
       "    </tr>\n",
       "    <tr>\n",
       "      <th>min</th>\n",
       "      <td>1939.000000</td>\n",
       "      <td>0.000080</td>\n",
       "      <td>0.008400</td>\n",
       "      <td>-11.920000</td>\n",
       "    </tr>\n",
       "    <tr>\n",
       "      <th>25%</th>\n",
       "      <td>3344.250000</td>\n",
       "      <td>0.000878</td>\n",
       "      <td>0.102750</td>\n",
       "      <td>-6.225500</td>\n",
       "    </tr>\n",
       "    <tr>\n",
       "      <th>50%</th>\n",
       "      <td>5776.000000</td>\n",
       "      <td>0.039000</td>\n",
       "      <td>0.702500</td>\n",
       "      <td>10.150000</td>\n",
       "    </tr>\n",
       "    <tr>\n",
       "      <th>75%</th>\n",
       "      <td>14366.750000</td>\n",
       "      <td>195750.000000</td>\n",
       "      <td>39.750000</td>\n",
       "      <td>13.830000</td>\n",
       "    </tr>\n",
       "    <tr>\n",
       "      <th>max</th>\n",
       "      <td>40000.000000</td>\n",
       "      <td>834042.000000</td>\n",
       "      <td>1948.500000</td>\n",
       "      <td>20.060000</td>\n",
       "    </tr>\n",
       "  </tbody>\n",
       "</table>\n",
       "</div>"
      ],
      "text/plain": [
       "       Temperature (K)  Luminosity(L/Lo)  Radius(R/Ro)  Absolute magnitude(Mv)\n",
       "count       216.000000        216.000000    216.000000              216.000000\n",
       "mean      10211.055556     101421.163769    223.778661                4.528634\n",
       "std        9214.606535     172474.272121    504.416657               10.475934\n",
       "min        1939.000000          0.000080      0.008400              -11.920000\n",
       "25%        3344.250000          0.000878      0.102750               -6.225500\n",
       "50%        5776.000000          0.039000      0.702500               10.150000\n",
       "75%       14366.750000     195750.000000     39.750000               13.830000\n",
       "max       40000.000000     834042.000000   1948.500000               20.060000"
      ]
     },
     "execution_count": 6,
     "metadata": {},
     "output_type": "execute_result"
    }
   ],
   "source": [
    "df_train.describe() # description of data in the dataframe (numerical)"
   ]
  },
  {
   "cell_type": "code",
   "execution_count": 7,
   "id": "e500d054",
   "metadata": {},
   "outputs": [
    {
     "data": {
      "text/html": [
       "<div>\n",
       "<style scoped>\n",
       "    .dataframe tbody tr th:only-of-type {\n",
       "        vertical-align: middle;\n",
       "    }\n",
       "\n",
       "    .dataframe tbody tr th {\n",
       "        vertical-align: top;\n",
       "    }\n",
       "\n",
       "    .dataframe thead th {\n",
       "        text-align: right;\n",
       "    }\n",
       "</style>\n",
       "<table border=\"1\" class=\"dataframe\">\n",
       "  <thead>\n",
       "    <tr style=\"text-align: right;\">\n",
       "      <th></th>\n",
       "      <th>Star type</th>\n",
       "      <th>Star color</th>\n",
       "      <th>Spectral Class</th>\n",
       "    </tr>\n",
       "  </thead>\n",
       "  <tbody>\n",
       "    <tr>\n",
       "      <th>count</th>\n",
       "      <td>216</td>\n",
       "      <td>216</td>\n",
       "      <td>216</td>\n",
       "    </tr>\n",
       "    <tr>\n",
       "      <th>unique</th>\n",
       "      <td>6</td>\n",
       "      <td>18</td>\n",
       "      <td>7</td>\n",
       "    </tr>\n",
       "    <tr>\n",
       "      <th>top</th>\n",
       "      <td>Crimson Dwarfs</td>\n",
       "      <td>Red</td>\n",
       "      <td>M</td>\n",
       "    </tr>\n",
       "    <tr>\n",
       "      <th>freq</th>\n",
       "      <td>38</td>\n",
       "      <td>102</td>\n",
       "      <td>101</td>\n",
       "    </tr>\n",
       "  </tbody>\n",
       "</table>\n",
       "</div>"
      ],
      "text/plain": [
       "             Star type Star color Spectral Class\n",
       "count              216        216            216\n",
       "unique               6         18              7\n",
       "top     Crimson Dwarfs        Red              M\n",
       "freq                38        102            101"
      ]
     },
     "execution_count": 7,
     "metadata": {},
     "output_type": "execute_result"
    }
   ],
   "source": [
    "df_train.describe(include='object') # description of data in the dataframe (categorical)"
   ]
  },
  {
   "cell_type": "code",
   "execution_count": 8,
   "id": "f63688f2",
   "metadata": {},
   "outputs": [
    {
     "data": {
      "text/plain": [
       "Red                   102\n",
       "Blue                   49\n",
       "Blue-white             23\n",
       "yellow-white            8\n",
       "White                   7\n",
       "Blue White              7\n",
       "Yellowish White         3\n",
       "Blue white              3\n",
       "white                   3\n",
       "Whitish                 2\n",
       "yellowish               2\n",
       "Pale yellow orange      1\n",
       "Orange                  1\n",
       "White-Yellow            1\n",
       "Blue                    1\n",
       "Orange-Red              1\n",
       "Blue white              1\n",
       "Blue-White              1\n",
       "Name: Star color, dtype: int64"
      ]
     },
     "execution_count": 8,
     "metadata": {},
     "output_type": "execute_result"
    }
   ],
   "source": [
    "df_train['Star color'].value_counts() # checking the unique values in column 'Star color'"
   ]
  },
  {
   "cell_type": "code",
   "execution_count": 9,
   "id": "a3a2f4a9",
   "metadata": {},
   "outputs": [
    {
     "data": {
      "text/plain": [
       "<AxesSubplot: xlabel='count', ylabel='Star color'>"
      ]
     },
     "execution_count": 9,
     "metadata": {},
     "output_type": "execute_result"
    },
    {
     "data": {
      "image/png": "[encoded data removed]",
      "text/plain": [
       "<Figure size 400x400 with 1 Axes>"
      ]
     },
     "metadata": {},
     "output_type": "display_data"
    }
   ],
   "source": [
    "# plotting the distribution of all color stars\n",
    "plt.figure(figsize = (4,4))\n",
    "sns.countplot(y=df_train[\"Star color\"])"
   ]
  },
  {
   "cell_type": "code",
   "execution_count": 10,
   "id": "aadbc69e",
   "metadata": {},
   "outputs": [
    {
     "data": {
      "text/plain": [
       "array([10,  2, 11, 14,  3,  9,  6, 13, 16,  0,  7, 12, 15,  1, 17,  8,  4,\n",
       "        5])"
      ]
     },
     "execution_count": 10,
     "metadata": {},
     "output_type": "execute_result"
    }
   ],
   "source": [
    "# converting the categorical column 'Star color' into numerical using LabelEncoding Technique\n",
    "from sklearn import preprocessing\n",
    "label_encoder = preprocessing.LabelEncoder()\n",
    "df_train['Star color'] = label_encoder.fit_transform(df_train['Star color'])\n",
    "df_train['Star color'].unique()"
   ]
  },
  {
   "cell_type": "code",
   "execution_count": 11,
   "id": "87aa2d04",
   "metadata": {},
   "outputs": [
    {
     "data": {
      "text/plain": [
       "M    101\n",
       "B     40\n",
       "O     35\n",
       "A     18\n",
       "F     17\n",
       "K      4\n",
       "G      1\n",
       "Name: Spectral Class, dtype: int64"
      ]
     },
     "execution_count": 11,
     "metadata": {},
     "output_type": "execute_result"
    }
   ],
   "source": [
    "df_train['Spectral Class'].value_counts() # checking the unique values in column 'Spectral Class'"
   ]
  },
  {
   "cell_type": "code",
   "execution_count": 12,
   "id": "3eb01f42",
   "metadata": {},
   "outputs": [
    {
     "data": {
      "text/plain": [
       "<AxesSubplot: xlabel='Spectral Class', ylabel='count'>"
      ]
     },
     "execution_count": 12,
     "metadata": {},
     "output_type": "execute_result"
    },
    {
     "data": {
      "image/png": "[encoded data removed]",
      "text/plain": [
       "<Figure size 400x400 with 1 Axes>"
      ]
     },
     "metadata": {},
     "output_type": "display_data"
    }
   ],
   "source": [
    "# plotting the distribution of spectral classes\n",
    "plt.figure(figsize = (4,4))\n",
    "sns.countplot(x=df_train[\"Spectral Class\"])"
   ]
  },
  {
   "cell_type": "code",
   "execution_count": 13,
   "id": "8dedb22d",
   "metadata": {},
   "outputs": [
    {
     "data": {
      "text/plain": [
       "array([5, 1, 0, 2, 4, 6, 3])"
      ]
     },
     "execution_count": 13,
     "metadata": {},
     "output_type": "execute_result"
    }
   ],
   "source": [
    "# converting the categorical column 'Spectral Class' into numerical using LabelEncoding Technique\n",
    "from sklearn import preprocessing\n",
    "label_encoder = preprocessing.LabelEncoder()\n",
    "df_train['Spectral Class'] = label_encoder.fit_transform(df_train['Spectral Class'])\n",
    "df_train['Spectral Class'].unique()"
   ]
  },
  {
   "cell_type": "code",
   "execution_count": 14,
   "id": "2720d83e",
   "metadata": {},
   "outputs": [
    {
     "data": {
      "text/plain": [
       "Crimson Dwarfs          38\n",
       "Aurelian Mainstays      37\n",
       "Pearl Dwarfs            36\n",
       "Celestial Sovereigns    36\n",
       "Umber Dwarfs            35\n",
       "Cosmic Behemoths        34\n",
       "Name: Star type, dtype: int64"
      ]
     },
     "execution_count": 14,
     "metadata": {},
     "output_type": "execute_result"
    }
   ],
   "source": [
    "df_train['Star type'].value_counts() # checking the unique values in column 'Star type'"
   ]
  },
  {
   "cell_type": "code",
   "execution_count": 15,
   "id": "2960793d",
   "metadata": {},
   "outputs": [
    {
     "data": {
      "text/plain": [
       "<AxesSubplot: xlabel='count', ylabel='Star type'>"
      ]
     },
     "execution_count": 15,
     "metadata": {},
     "output_type": "execute_result"
    },
    {
     "data": {
      "image/png": "[encoded data removed]",
      "text/plain": [
       "<Figure size 400x400 with 1 Axes>"
      ]
     },
     "metadata": {},
     "output_type": "display_data"
    }
   ],
   "source": [
    "# plotting the distribution of different types of stars \n",
    "plt.figure(figsize = (4,4))\n",
    "sns.countplot(y=df_train[\"Star type\"])"
   ]
  },
  {
   "cell_type": "code",
   "execution_count": 16,
   "id": "2c42f889",
   "metadata": {},
   "outputs": [
    {
     "name": "stderr",
     "output_type": "stream",
     "text": [
      "C:\\Users\\Subod\\AppData\\Local\\Temp\\ipykernel_22168\\3708403367.py:1: FutureWarning: Dropping of nuisance columns in DataFrame reductions (with 'numeric_only=None') is deprecated; in a future version this will raise TypeError.  Select only valid columns before calling the reduction.\n",
      "  df_train.skew() # checking for skewness in train data\n"
     ]
    },
    {
     "data": {
      "text/plain": [
       "Temperature (K)           1.344488\n",
       "Luminosity(L/Lo)          2.130132\n",
       "Radius(R/Ro)              2.066023\n",
       "Absolute magnitude(Mv)   -0.144586\n",
       "Star color               -0.362170\n",
       "Spectral Class           -0.638578\n",
       "dtype: float64"
      ]
     },
     "execution_count": 16,
     "metadata": {},
     "output_type": "execute_result"
    }
   ],
   "source": [
    "df_train.skew() # checking for skewness in train data"
   ]
  },
  {
   "cell_type": "code",
   "execution_count": 17,
   "id": "22d74ca5",
   "metadata": {},
   "outputs": [
    {
     "data": {
      "text/plain": [
       "0.4548464436761747"
      ]
     },
     "execution_count": 17,
     "metadata": {},
     "output_type": "execute_result"
    }
   ],
   "source": [
    "# correcting skewness in the column 'Temperature (K)' using Log Transformation\n",
    "df_train['Temperature (K)'] = np.log(df_train['Temperature (K)'])\n",
    "df_train['Temperature (K)'].skew()"
   ]
  },
  {
   "cell_type": "code",
   "execution_count": 18,
   "id": "30652b42",
   "metadata": {},
   "outputs": [
    {
     "data": {
      "text/plain": [
       "0.2147808706889853"
      ]
     },
     "execution_count": 18,
     "metadata": {},
     "output_type": "execute_result"
    }
   ],
   "source": [
    "# correcting skewness in the column 'Luminosity(L/Lo)' using Log Transformation\n",
    "df_train['Luminosity(L/Lo)'] = np.log(df_train['Luminosity(L/Lo)'])\n",
    "df_train['Luminosity(L/Lo)'].skew()"
   ]
  },
  {
   "cell_type": "code",
   "execution_count": 19,
   "id": "a7a0a73f",
   "metadata": {},
   "outputs": [
    {
     "data": {
      "text/plain": [
       "0.37105244781331065"
      ]
     },
     "execution_count": 19,
     "metadata": {},
     "output_type": "execute_result"
    }
   ],
   "source": [
    "# correcting skewness in the column 'Radius(R/Ro)' using Log Transformation\n",
    "df_train['Radius(R/Ro)'] = np.log(df_train['Radius(R/Ro)'])\n",
    "df_train['Radius(R/Ro)'].skew()"
   ]
  },
  {
   "cell_type": "code",
   "execution_count": 20,
   "id": "62a4a6c9",
   "metadata": {},
   "outputs": [
    {
     "data": {
      "text/plain": [
       "<AxesSubplot: xlabel='Absolute magnitude(Mv)', ylabel='Count'>"
      ]
     },
     "execution_count": 20,
     "metadata": {},
     "output_type": "execute_result"
    },
    {
     "data": {
      "image/png": "[encoded data removed]",
      "text/plain": [
       "<Figure size 900x900 with 4 Axes>"
      ]
     },
     "metadata": {},
     "output_type": "display_data"
    }
   ],
   "source": [
    "fig, axis = plt.subplots(2,2, figsize = (9,9))\n",
    "sns.histplot(x=df_train[\"Temperature (K)\"], ax = axis[0,0])\n",
    "sns.histplot(x=df_train[\"Luminosity(L/Lo)\"], ax = axis[0,1])\n",
    "sns.histplot(x=df_train[\"Radius(R/Ro)\"], ax = axis[1,0])\n",
    "sns.histplot(x=df_train[\"Absolute magnitude(Mv)\"], ax = axis[1,1] )"
   ]
  },
  {
   "cell_type": "code",
   "execution_count": 21,
   "id": "877d52eb",
   "metadata": {},
   "outputs": [
    {
     "data": {
      "text/html": [
       "<div>\n",
       "<style scoped>\n",
       "    .dataframe tbody tr th:only-of-type {\n",
       "        vertical-align: middle;\n",
       "    }\n",
       "\n",
       "    .dataframe tbody tr th {\n",
       "        vertical-align: top;\n",
       "    }\n",
       "\n",
       "    .dataframe thead th {\n",
       "        text-align: right;\n",
       "    }\n",
       "</style>\n",
       "<table border=\"1\" class=\"dataframe\">\n",
       "  <thead>\n",
       "    <tr style=\"text-align: right;\">\n",
       "      <th></th>\n",
       "      <th>Temperature (K)</th>\n",
       "      <th>Luminosity(L/Lo)</th>\n",
       "      <th>Radius(R/Ro)</th>\n",
       "      <th>Absolute magnitude(Mv)</th>\n",
       "      <th>Star color</th>\n",
       "      <th>Spectral Class</th>\n",
       "    </tr>\n",
       "  </thead>\n",
       "  <tbody>\n",
       "    <tr>\n",
       "      <th>0</th>\n",
       "      <td>16500</td>\n",
       "      <td>0.01300</td>\n",
       "      <td>0.014</td>\n",
       "      <td>11.89</td>\n",
       "      <td>Blue White</td>\n",
       "      <td>B</td>\n",
       "    </tr>\n",
       "    <tr>\n",
       "      <th>1</th>\n",
       "      <td>2637</td>\n",
       "      <td>0.00073</td>\n",
       "      <td>0.127</td>\n",
       "      <td>17.22</td>\n",
       "      <td>Red</td>\n",
       "      <td>M</td>\n",
       "    </tr>\n",
       "    <tr>\n",
       "      <th>2</th>\n",
       "      <td>4980</td>\n",
       "      <td>0.35700</td>\n",
       "      <td>1.130</td>\n",
       "      <td>4.78</td>\n",
       "      <td>Yellowish</td>\n",
       "      <td>K</td>\n",
       "    </tr>\n",
       "    <tr>\n",
       "      <th>3</th>\n",
       "      <td>33421</td>\n",
       "      <td>352000.00000</td>\n",
       "      <td>67.000</td>\n",
       "      <td>-5.79</td>\n",
       "      <td>Blue</td>\n",
       "      <td>O</td>\n",
       "    </tr>\n",
       "    <tr>\n",
       "      <th>4</th>\n",
       "      <td>11096</td>\n",
       "      <td>112000.00000</td>\n",
       "      <td>12.000</td>\n",
       "      <td>-5.91</td>\n",
       "      <td>Blue</td>\n",
       "      <td>O</td>\n",
       "    </tr>\n",
       "  </tbody>\n",
       "</table>\n",
       "</div>"
      ],
      "text/plain": [
       "   Temperature (K)  Luminosity(L/Lo)  Radius(R/Ro)  Absolute magnitude(Mv)  \\\n",
       "0            16500           0.01300         0.014                   11.89   \n",
       "1             2637           0.00073         0.127                   17.22   \n",
       "2             4980           0.35700         1.130                    4.78   \n",
       "3            33421      352000.00000        67.000                   -5.79   \n",
       "4            11096      112000.00000        12.000                   -5.91   \n",
       "\n",
       "   Star color Spectral Class  \n",
       "0  Blue White              B  \n",
       "1         Red              M  \n",
       "2   Yellowish              K  \n",
       "3        Blue              O  \n",
       "4        Blue              O  "
      ]
     },
     "execution_count": 21,
     "metadata": {},
     "output_type": "execute_result"
    }
   ],
   "source": [
    "df_test = pd.read_csv('test.csv')\n",
    "df_test.head() # to display the first 5 rows of the dataframe"
   ]
  },
  {
   "cell_type": "code",
   "execution_count": 22,
   "id": "5624061a",
   "metadata": {},
   "outputs": [
    {
     "data": {
      "text/plain": [
       "(24, 6)"
      ]
     },
     "execution_count": 22,
     "metadata": {},
     "output_type": "execute_result"
    }
   ],
   "source": [
    "df_test.shape # dimensions of the dataframe"
   ]
  },
  {
   "cell_type": "code",
   "execution_count": 23,
   "id": "46ac23ae",
   "metadata": {},
   "outputs": [
    {
     "name": "stdout",
     "output_type": "stream",
     "text": [
      "<class 'pandas.core.frame.DataFrame'>\n",
      "RangeIndex: 24 entries, 0 to 23\n",
      "Data columns (total 6 columns):\n",
      " #   Column                  Non-Null Count  Dtype  \n",
      "---  ------                  --------------  -----  \n",
      " 0   Temperature (K)         24 non-null     int64  \n",
      " 1   Luminosity(L/Lo)        24 non-null     float64\n",
      " 2   Radius(R/Ro)            24 non-null     float64\n",
      " 3   Absolute magnitude(Mv)  24 non-null     float64\n",
      " 4   Star color              24 non-null     object \n",
      " 5   Spectral Class          24 non-null     object \n",
      "dtypes: float64(3), int64(1), object(2)\n",
      "memory usage: 1.2+ KB\n"
     ]
    }
   ],
   "source": [
    "df_test.info() # information about the dataframe"
   ]
  },
  {
   "cell_type": "code",
   "execution_count": 24,
   "id": "b06c58cc",
   "metadata": {},
   "outputs": [
    {
     "data": {
      "text/html": [
       "<div>\n",
       "<style scoped>\n",
       "    .dataframe tbody tr th:only-of-type {\n",
       "        vertical-align: middle;\n",
       "    }\n",
       "\n",
       "    .dataframe tbody tr th {\n",
       "        vertical-align: top;\n",
       "    }\n",
       "\n",
       "    .dataframe thead th {\n",
       "        text-align: right;\n",
       "    }\n",
       "</style>\n",
       "<table border=\"1\" class=\"dataframe\">\n",
       "  <thead>\n",
       "    <tr style=\"text-align: right;\">\n",
       "      <th></th>\n",
       "      <th>Temperature (K)</th>\n",
       "      <th>Luminosity(L/Lo)</th>\n",
       "      <th>Radius(R/Ro)</th>\n",
       "      <th>Absolute magnitude(Mv)</th>\n",
       "    </tr>\n",
       "  </thead>\n",
       "  <tbody>\n",
       "    <tr>\n",
       "      <th>count</th>\n",
       "      <td>24.000000</td>\n",
       "      <td>24.000000</td>\n",
       "      <td>24.000000</td>\n",
       "      <td>24.000000</td>\n",
       "    </tr>\n",
       "    <tr>\n",
       "      <th>mean</th>\n",
       "      <td>13075.125000</td>\n",
       "      <td>159093.142425</td>\n",
       "      <td>357.569867</td>\n",
       "      <td>3.066250</td>\n",
       "    </tr>\n",
       "    <tr>\n",
       "      <th>std</th>\n",
       "      <td>12115.130907</td>\n",
       "      <td>230999.626822</td>\n",
       "      <td>619.612531</td>\n",
       "      <td>11.174061</td>\n",
       "    </tr>\n",
       "    <tr>\n",
       "      <th>min</th>\n",
       "      <td>2637.000000</td>\n",
       "      <td>0.000180</td>\n",
       "      <td>0.009200</td>\n",
       "      <td>-10.920000</td>\n",
       "    </tr>\n",
       "    <tr>\n",
       "      <th>25%</th>\n",
       "      <td>3384.250000</td>\n",
       "      <td>0.000810</td>\n",
       "      <td>0.115075</td>\n",
       "      <td>-6.847500</td>\n",
       "    </tr>\n",
       "    <tr>\n",
       "      <th>50%</th>\n",
       "      <td>8038.000000</td>\n",
       "      <td>546.178500</td>\n",
       "      <td>3.437500</td>\n",
       "      <td>1.370000</td>\n",
       "    </tr>\n",
       "    <tr>\n",
       "      <th>75%</th>\n",
       "      <td>19042.250000</td>\n",
       "      <td>325725.000000</td>\n",
       "      <td>363.250000</td>\n",
       "      <td>12.365000</td>\n",
       "    </tr>\n",
       "    <tr>\n",
       "      <th>max</th>\n",
       "      <td>39000.000000</td>\n",
       "      <td>849420.000000</td>\n",
       "      <td>1522.000000</td>\n",
       "      <td>19.630000</td>\n",
       "    </tr>\n",
       "  </tbody>\n",
       "</table>\n",
       "</div>"
      ],
      "text/plain": [
       "       Temperature (K)  Luminosity(L/Lo)  Radius(R/Ro)  Absolute magnitude(Mv)\n",
       "count        24.000000         24.000000     24.000000               24.000000\n",
       "mean      13075.125000     159093.142425    357.569867                3.066250\n",
       "std       12115.130907     230999.626822    619.612531               11.174061\n",
       "min        2637.000000          0.000180      0.009200              -10.920000\n",
       "25%        3384.250000          0.000810      0.115075               -6.847500\n",
       "50%        8038.000000        546.178500      3.437500                1.370000\n",
       "75%       19042.250000     325725.000000    363.250000               12.365000\n",
       "max       39000.000000     849420.000000   1522.000000               19.630000"
      ]
     },
     "execution_count": 24,
     "metadata": {},
     "output_type": "execute_result"
    }
   ],
   "source": [
    "df_test.describe() # description of data in the dataframe (numerical)"
   ]
  },
  {
   "cell_type": "code",
   "execution_count": 25,
   "id": "2c14f3f7",
   "metadata": {},
   "outputs": [
    {
     "data": {
      "text/html": [
       "<div>\n",
       "<style scoped>\n",
       "    .dataframe tbody tr th:only-of-type {\n",
       "        vertical-align: middle;\n",
       "    }\n",
       "\n",
       "    .dataframe tbody tr th {\n",
       "        vertical-align: top;\n",
       "    }\n",
       "\n",
       "    .dataframe thead th {\n",
       "        text-align: right;\n",
       "    }\n",
       "</style>\n",
       "<table border=\"1\" class=\"dataframe\">\n",
       "  <thead>\n",
       "    <tr style=\"text-align: right;\">\n",
       "      <th></th>\n",
       "      <th>Star color</th>\n",
       "      <th>Spectral Class</th>\n",
       "    </tr>\n",
       "  </thead>\n",
       "  <tbody>\n",
       "    <tr>\n",
       "      <th>count</th>\n",
       "      <td>24</td>\n",
       "      <td>24</td>\n",
       "    </tr>\n",
       "    <tr>\n",
       "      <th>unique</th>\n",
       "      <td>6</td>\n",
       "      <td>5</td>\n",
       "    </tr>\n",
       "    <tr>\n",
       "      <th>top</th>\n",
       "      <td>Red</td>\n",
       "      <td>M</td>\n",
       "    </tr>\n",
       "    <tr>\n",
       "      <th>freq</th>\n",
       "      <td>10</td>\n",
       "      <td>10</td>\n",
       "    </tr>\n",
       "  </tbody>\n",
       "</table>\n",
       "</div>"
      ],
      "text/plain": [
       "       Star color Spectral Class\n",
       "count          24             24\n",
       "unique          6              5\n",
       "top           Red              M\n",
       "freq           10             10"
      ]
     },
     "execution_count": 25,
     "metadata": {},
     "output_type": "execute_result"
    }
   ],
   "source": [
    "df_test.describe(include='object') # description of data in the dataframe (categorical)"
   ]
  },
  {
   "cell_type": "code",
   "execution_count": 26,
   "id": "f314565f",
   "metadata": {},
   "outputs": [
    {
     "data": {
      "text/plain": [
       "Red           10\n",
       "Blue           6\n",
       "Blue White     3\n",
       "Blue-white     3\n",
       "Yellowish      1\n",
       "Orange         1\n",
       "Name: Star color, dtype: int64"
      ]
     },
     "execution_count": 26,
     "metadata": {},
     "output_type": "execute_result"
    }
   ],
   "source": [
    "df_test['Star color'].value_counts() # checking the unique values in column 'Star color'"
   ]
  },
  {
   "cell_type": "code",
   "execution_count": 27,
   "id": "ad7a5e9b",
   "metadata": {},
   "outputs": [
    {
     "data": {
      "text/plain": [
       "<AxesSubplot: xlabel='count', ylabel='Star color'>"
      ]
     },
     "execution_count": 27,
     "metadata": {},
     "output_type": "execute_result"
    },
    {
     "data": {
      "image/png": "[encoded data removed]",
      "text/plain": [
       "<Figure size 400x400 with 1 Axes>"
      ]
     },
     "metadata": {},
     "output_type": "display_data"
    }
   ],
   "source": [
    "# plotting the distribution of all color stars\n",
    "plt.figure(figsize = (4,4))\n",
    "sns.countplot(y=df_test[\"Star color\"])"
   ]
  },
  {
   "cell_type": "code",
   "execution_count": 28,
   "id": "9015e48b",
   "metadata": {},
   "outputs": [
    {
     "data": {
      "text/plain": [
       "array([1, 4, 5, 0, 3, 2])"
      ]
     },
     "execution_count": 28,
     "metadata": {},
     "output_type": "execute_result"
    }
   ],
   "source": [
    "# converting the categorical column 'Star color' into numerical using LabelEncoding Technique\n",
    "from sklearn import preprocessing\n",
    "label_encoder = preprocessing.LabelEncoder()\n",
    "df_test['Star color'] = label_encoder.fit_transform(df_test['Star color'])\n",
    "df_test['Star color'].unique()"
   ]
  },
  {
   "cell_type": "code",
   "execution_count": 29,
   "id": "2b7db3f5",
   "metadata": {},
   "outputs": [
    {
     "data": {
      "text/plain": [
       "M    10\n",
       "B     6\n",
       "O     5\n",
       "K     2\n",
       "A     1\n",
       "Name: Spectral Class, dtype: int64"
      ]
     },
     "execution_count": 29,
     "metadata": {},
     "output_type": "execute_result"
    }
   ],
   "source": [
    "df_test['Spectral Class'].value_counts() # checking the unique values in column 'Spectral Class'"
   ]
  },
  {
   "cell_type": "code",
   "execution_count": 30,
   "id": "f23274a3",
   "metadata": {},
   "outputs": [
    {
     "data": {
      "text/plain": [
       "<AxesSubplot: xlabel='Spectral Class', ylabel='count'>"
      ]
     },
     "execution_count": 30,
     "metadata": {},
     "output_type": "execute_result"
    },
    {
     "data": {
      "image/png": "[encoded data removed]",
      "text/plain": [
       "<Figure size 400x400 with 1 Axes>"
      ]
     },
     "metadata": {},
     "output_type": "display_data"
    }
   ],
   "source": [
    "# plotting the distribution of spectral classes\n",
    "plt.figure(figsize = (4,4))\n",
    "sns.countplot(x=df_test[\"Spectral Class\"])"
   ]
  },
  {
   "cell_type": "code",
   "execution_count": 31,
   "id": "51880c80",
   "metadata": {},
   "outputs": [
    {
     "data": {
      "text/plain": [
       "array([1, 3, 2, 4, 0])"
      ]
     },
     "execution_count": 31,
     "metadata": {},
     "output_type": "execute_result"
    }
   ],
   "source": [
    "# converting the categorical column 'Spectral Class' into numerical using LabelEncoding Technique\n",
    "from sklearn import preprocessing\n",
    "label_encoder = preprocessing.LabelEncoder()\n",
    "df_test['Spectral Class'] = label_encoder.fit_transform(df_test['Spectral Class'])\n",
    "df_test['Spectral Class'].unique()"
   ]
  },
  {
   "cell_type": "code",
   "execution_count": 32,
   "id": "0a50af0d",
   "metadata": {},
   "outputs": [
    {
     "data": {
      "text/plain": [
       "Temperature (K)           1.016858\n",
       "Luminosity(L/Lo)          1.615542\n",
       "Radius(R/Ro)              1.256635\n",
       "Absolute magnitude(Mv)    0.094935\n",
       "Star color               -0.224380\n",
       "Spectral Class           -0.475014\n",
       "dtype: float64"
      ]
     },
     "execution_count": 32,
     "metadata": {},
     "output_type": "execute_result"
    }
   ],
   "source": [
    "df_test.skew()  # checking for skewness in test data"
   ]
  },
  {
   "cell_type": "code",
   "execution_count": 33,
   "id": "ff27ddab",
   "metadata": {},
   "outputs": [
    {
     "data": {
      "text/plain": [
       "0.25178723261132463"
      ]
     },
     "execution_count": 33,
     "metadata": {},
     "output_type": "execute_result"
    }
   ],
   "source": [
    "# correcting skewness in the column 'Temperature (K)' using Log Transformation\n",
    "df_test['Temperature (K)'] = np.log(df_test['Temperature (K)'])\n",
    "df_test['Temperature (K)'].skew()"
   ]
  },
  {
   "cell_type": "code",
   "execution_count": 34,
   "id": "3b92a0fa",
   "metadata": {},
   "outputs": [
    {
     "data": {
      "text/plain": [
       "-0.0365120263218377"
      ]
     },
     "execution_count": 34,
     "metadata": {},
     "output_type": "execute_result"
    }
   ],
   "source": [
    "# correcting skewness in the column 'Luminosity(L/Lo)' using Log Transformation\n",
    "df_test['Luminosity(L/Lo)'] = np.log(df_test['Luminosity(L/Lo)'])\n",
    "df_test['Luminosity(L/Lo)'].skew()"
   ]
  },
  {
   "cell_type": "code",
   "execution_count": 35,
   "id": "ddd103cb",
   "metadata": {},
   "outputs": [
    {
     "data": {
      "text/plain": [
       "0.20218569429258668"
      ]
     },
     "execution_count": 35,
     "metadata": {},
     "output_type": "execute_result"
    }
   ],
   "source": [
    "# correcting skewness in the column 'Radius(R/Ro)' using Log Transformation\n",
    "df_test['Radius(R/Ro)'] = np.log(df_test['Radius(R/Ro)'])\n",
    "df_test['Radius(R/Ro)'].skew()"
   ]
  },
  {
   "cell_type": "code",
   "execution_count": 36,
   "id": "c642e1f1",
   "metadata": {},
   "outputs": [
    {
     "data": {
      "text/plain": [
       "<AxesSubplot: xlabel='Absolute magnitude(Mv)', ylabel='Count'>"
      ]
     },
     "execution_count": 36,
     "metadata": {},
     "output_type": "execute_result"
    },
    {
     "data": {
      "image/png": "[encoded data removed]",
      "text/plain": [
       "<Figure size 900x900 with 4 Axes>"
      ]
     },
     "metadata": {},
     "output_type": "display_data"
    }
   ],
   "source": [
    "fig, axis = plt.subplots(2,2, figsize = (9,9))\n",
    "sns.histplot(x=df_test[\"Temperature (K)\"], ax = axis[0,0])\n",
    "sns.histplot(x=df_test[\"Luminosity(L/Lo)\"], ax = axis[0,1])\n",
    "sns.histplot(x=df_test[\"Radius(R/Ro)\"], ax = axis[1,0])\n",
    "sns.histplot(x=df_test[\"Absolute magnitude(Mv)\"], ax = axis[1,1] )"
   ]
  },
  {
   "cell_type": "code",
   "execution_count": 37,
   "id": "abc4f0ff",
   "metadata": {},
   "outputs": [
    {
     "data": {
      "text/html": [
       "<div>\n",
       "<style scoped>\n",
       "    .dataframe tbody tr th:only-of-type {\n",
       "        vertical-align: middle;\n",
       "    }\n",
       "\n",
       "    .dataframe tbody tr th {\n",
       "        vertical-align: top;\n",
       "    }\n",
       "\n",
       "    .dataframe thead th {\n",
       "        text-align: right;\n",
       "    }\n",
       "</style>\n",
       "<table border=\"1\" class=\"dataframe\">\n",
       "  <thead>\n",
       "    <tr style=\"text-align: right;\">\n",
       "      <th></th>\n",
       "      <th>Temperature (K)</th>\n",
       "      <th>Luminosity(L/Lo)</th>\n",
       "      <th>Radius(R/Ro)</th>\n",
       "      <th>Absolute magnitude(Mv)</th>\n",
       "      <th>Star color</th>\n",
       "      <th>Spectral Class</th>\n",
       "      <th>Star type</th>\n",
       "    </tr>\n",
       "  </thead>\n",
       "  <tbody>\n",
       "    <tr>\n",
       "      <th>0</th>\n",
       "      <td>8.028781</td>\n",
       "      <td>-6.032287</td>\n",
       "      <td>-1.771957</td>\n",
       "      <td>16.12</td>\n",
       "      <td>10</td>\n",
       "      <td>5</td>\n",
       "      <td>Umber Dwarfs</td>\n",
       "    </tr>\n",
       "    <tr>\n",
       "      <th>1</th>\n",
       "      <td>8.020270</td>\n",
       "      <td>-7.600902</td>\n",
       "      <td>-1.869505</td>\n",
       "      <td>16.60</td>\n",
       "      <td>10</td>\n",
       "      <td>5</td>\n",
       "      <td>Umber Dwarfs</td>\n",
       "    </tr>\n",
       "    <tr>\n",
       "      <th>2</th>\n",
       "      <td>7.863267</td>\n",
       "      <td>-8.111728</td>\n",
       "      <td>-2.282782</td>\n",
       "      <td>18.70</td>\n",
       "      <td>10</td>\n",
       "      <td>5</td>\n",
       "      <td>Umber Dwarfs</td>\n",
       "    </tr>\n",
       "    <tr>\n",
       "      <th>3</th>\n",
       "      <td>7.937375</td>\n",
       "      <td>-8.517193</td>\n",
       "      <td>-1.832581</td>\n",
       "      <td>16.65</td>\n",
       "      <td>10</td>\n",
       "      <td>5</td>\n",
       "      <td>Umber Dwarfs</td>\n",
       "    </tr>\n",
       "    <tr>\n",
       "      <th>4</th>\n",
       "      <td>7.569928</td>\n",
       "      <td>-8.888257</td>\n",
       "      <td>-2.273026</td>\n",
       "      <td>20.06</td>\n",
       "      <td>10</td>\n",
       "      <td>5</td>\n",
       "      <td>Umber Dwarfs</td>\n",
       "    </tr>\n",
       "  </tbody>\n",
       "</table>\n",
       "</div>"
      ],
      "text/plain": [
       "   Temperature (K)  Luminosity(L/Lo)  Radius(R/Ro)  Absolute magnitude(Mv)  \\\n",
       "0         8.028781         -6.032287     -1.771957                   16.12   \n",
       "1         8.020270         -7.600902     -1.869505                   16.60   \n",
       "2         7.863267         -8.111728     -2.282782                   18.70   \n",
       "3         7.937375         -8.517193     -1.832581                   16.65   \n",
       "4         7.569928         -8.888257     -2.273026                   20.06   \n",
       "\n",
       "   Star color  Spectral Class     Star type  \n",
       "0          10               5  Umber Dwarfs  \n",
       "1          10               5  Umber Dwarfs  \n",
       "2          10               5  Umber Dwarfs  \n",
       "3          10               5  Umber Dwarfs  \n",
       "4          10               5  Umber Dwarfs  "
      ]
     },
     "execution_count": 37,
     "metadata": {},
     "output_type": "execute_result"
    }
   ],
   "source": [
    "# rearranging the columns for splitting purpose\n",
    "df_train = df_train[['Temperature (K)','Luminosity(L/Lo)','Radius(R/Ro)','Absolute magnitude(Mv)','Star color','Spectral Class','Star type']]\n",
    "df_train.head()"
   ]
  },
  {
   "cell_type": "code",
   "execution_count": 38,
   "id": "845839eb",
   "metadata": {},
   "outputs": [],
   "source": [
    "X = df_train.iloc[:,0:6]\n",
    "y = df_train['Star type']"
   ]
  },
  {
   "cell_type": "code",
   "execution_count": 39,
   "id": "d872eef1",
   "metadata": {},
   "outputs": [
    {
     "name": "stdout",
     "output_type": "stream",
     "text": [
      "Best Hyperparameters: {'max_depth': None, 'min_samples_leaf': 1, 'min_samples_split': 2, 'n_estimators': 50}\n",
      "Accuracy: 0.9953488372093023\n"
     ]
    }
   ],
   "source": [
    "from sklearn.model_selection import GridSearchCV\n",
    "from sklearn.ensemble import RandomForestClassifier\n",
    "\n",
    "rfc = RandomForestClassifier()\n",
    "param_grid = {\n",
    "    'n_estimators': [50, 100, 150],\n",
    "    'max_depth': [None, 5, 10],\n",
    "    'min_samples_split': [2, 5, 10],\n",
    "    'min_samples_leaf': [1, 2, 4]\n",
    "}\n",
    "\n",
    "# creating a Grid Search Cross-Validation object\n",
    "grid_cv = GridSearchCV(rfc, param_grid, cv=5)\n",
    "\n",
    "# fitting the Grid Search Cross-Validation object to the data\n",
    "X = df_train.iloc[:,0:6]\n",
    "y = df_train['Star type']\n",
    "grid_cv.fit(X, y)\n",
    "\n",
    "# printing the best hyperparameters found\n",
    "print(\"Best Hyperparameters:\", grid_cv.best_params_)\n",
    "\n",
    "# printing the accuracy score with the best hyperparameters\n",
    "print(\"Accuracy:\", grid_cv.best_score_)"
   ]
  },
  {
   "cell_type": "code",
   "execution_count": 40,
   "id": "db2324f2",
   "metadata": {},
   "outputs": [
    {
     "name": "stdout",
     "output_type": "stream",
     "text": [
      "Accuracy: 1.0\n"
     ]
    }
   ],
   "source": [
    "from sklearn.model_selection import train_test_split\n",
    "from sklearn.metrics import accuracy_score\n",
    "\n",
    "X_train, X_test, y_train, y_test = train_test_split(X, y, test_size=0.2, random_state=42)\n",
    "rfc = RandomForestClassifier(n_estimators=150, max_depth=None, min_samples_split=5, min_samples_leaf=2)\n",
    "rfc.fit(X_train, y_train)\n",
    "\n",
    "y_pred = rfc.predict(X_test)\n",
    "accuracy = accuracy_score(y_test, y_pred)\n",
    "print(\"Accuracy:\", accuracy)"
   ]
  },
  {
   "cell_type": "code",
   "execution_count": 41,
   "id": "258cf7bd",
   "metadata": {},
   "outputs": [
    {
     "name": "stdout",
     "output_type": "stream",
     "text": [
      "(44,)\n"
     ]
    },
    {
     "data": {
      "text/plain": [
       "array(['Celestial Sovereigns', 'Cosmic Behemoths', 'Aurelian Mainstays',\n",
       "       'Crimson Dwarfs', 'Crimson Dwarfs', 'Umber Dwarfs', 'Pearl Dwarfs',\n",
       "       'Pearl Dwarfs', 'Celestial Sovereigns', 'Aurelian Mainstays',\n",
       "       'Cosmic Behemoths', 'Aurelian Mainstays', 'Aurelian Mainstays',\n",
       "       'Crimson Dwarfs', 'Crimson Dwarfs', 'Crimson Dwarfs',\n",
       "       'Crimson Dwarfs', 'Pearl Dwarfs', 'Cosmic Behemoths',\n",
       "       'Crimson Dwarfs', 'Pearl Dwarfs', 'Aurelian Mainstays',\n",
       "       'Pearl Dwarfs', 'Aurelian Mainstays', 'Cosmic Behemoths',\n",
       "       'Celestial Sovereigns', 'Umber Dwarfs', 'Pearl Dwarfs',\n",
       "       'Cosmic Behemoths', 'Celestial Sovereigns', 'Umber Dwarfs',\n",
       "       'Umber Dwarfs', 'Umber Dwarfs', 'Aurelian Mainstays',\n",
       "       'Crimson Dwarfs', 'Pearl Dwarfs', 'Pearl Dwarfs',\n",
       "       'Aurelian Mainstays', 'Crimson Dwarfs', 'Celestial Sovereigns',\n",
       "       'Celestial Sovereigns', 'Pearl Dwarfs', 'Crimson Dwarfs',\n",
       "       'Celestial Sovereigns'], dtype=object)"
      ]
     },
     "execution_count": 41,
     "metadata": {},
     "output_type": "execute_result"
    }
   ],
   "source": [
    "print(y_pred.shape)\n",
    "\n",
    "y_pred"
   ]
  },
  {
   "cell_type": "code",
   "execution_count": 42,
   "id": "46fd21b1",
   "metadata": {},
   "outputs": [],
   "source": [
    "y_pred = y_pred.flatten() # flatten() is to get a copy of an given array collapsed into one dimension.\n",
    "y_pred = y_pred.tolist() # converts array to an ordinary list"
   ]
  },
  {
   "cell_type": "code",
   "execution_count": 43,
   "id": "9ba1e836",
   "metadata": {},
   "outputs": [
    {
     "data": {
      "text/plain": [
       "Crimson Dwarfs          10\n",
       "Pearl Dwarfs             9\n",
       "Aurelian Mainstays       8\n",
       "Celestial Sovereigns     7\n",
       "Cosmic Behemoths         5\n",
       "Umber Dwarfs             5\n",
       "dtype: int64"
      ]
     },
     "execution_count": 43,
     "metadata": {},
     "output_type": "execute_result"
    }
   ],
   "source": [
    "y_pred = pd.DataFrame(y_pred)\n",
    "y_pred.value_counts()"
   ]
  },
  {
   "cell_type": "code",
   "execution_count": 44,
   "id": "a6b7ff18",
   "metadata": {},
   "outputs": [
    {
     "data": {
      "text/plain": [
       "Crimson Dwarfs          10\n",
       "Pearl Dwarfs             9\n",
       "Aurelian Mainstays       8\n",
       "Celestial Sovereigns     7\n",
       "Cosmic Behemoths         5\n",
       "Umber Dwarfs             5\n",
       "Name: Star type, dtype: int64"
      ]
     },
     "execution_count": 44,
     "metadata": {},
     "output_type": "execute_result"
    }
   ],
   "source": [
    "y_test.value_counts()"
   ]
  },
  {
   "cell_type": "code",
   "execution_count": 45,
   "id": "4238df24",
   "metadata": {},
   "outputs": [
    {
     "data": {
      "text/plain": [
       "array(['Pearl Dwarfs', 'Umber Dwarfs', 'Aurelian Mainstays',\n",
       "       'Celestial Sovereigns', 'Celestial Sovereigns', 'Cosmic Behemoths',\n",
       "       'Cosmic Behemoths', 'Pearl Dwarfs', 'Umber Dwarfs', 'Pearl Dwarfs',\n",
       "       'Celestial Sovereigns', 'Pearl Dwarfs', 'Cosmic Behemoths',\n",
       "       'Celestial Sovereigns', 'Cosmic Behemoths', 'Cosmic Behemoths',\n",
       "       'Umber Dwarfs', 'Crimson Dwarfs', 'Aurelian Mainstays',\n",
       "       'Umber Dwarfs', 'Umber Dwarfs', 'Crimson Dwarfs',\n",
       "       'Cosmic Behemoths', 'Aurelian Mainstays'], dtype=object)"
      ]
     },
     "execution_count": 45,
     "metadata": {},
     "output_type": "execute_result"
    }
   ],
   "source": [
    "y_result = rfc.predict(df_test)\n",
    "y_result"
   ]
  },
  {
   "cell_type": "code",
   "execution_count": 46,
   "id": "d4dc013a",
   "metadata": {},
   "outputs": [],
   "source": [
    "y_result = pd.DataFrame(y_result.flatten())\n",
    "df_test['Star type'] = y_result"
   ]
  },
  {
   "cell_type": "code",
   "execution_count": 47,
   "id": "ecf28cbb",
   "metadata": {},
   "outputs": [],
   "source": [
    "prediction = df_test.drop(['Temperature (K)','Luminosity(L/Lo)','Radius(R/Ro)','Absolute magnitude(Mv)','Star color','Spectral Class'], axis = 1)"
   ]
  },
  {
   "cell_type": "code",
   "execution_count": 49,
   "id": "004e0c25",
   "metadata": {},
   "outputs": [
    {
     "data": {
      "text/html": [
       "<div>\n",
       "<style scoped>\n",
       "    .dataframe tbody tr th:only-of-type {\n",
       "        vertical-align: middle;\n",
       "    }\n",
       "\n",
       "    .dataframe tbody tr th {\n",
       "        vertical-align: top;\n",
       "    }\n",
       "\n",
       "    .dataframe thead th {\n",
       "        text-align: right;\n",
       "    }\n",
       "</style>\n",
       "<table border=\"1\" class=\"dataframe\">\n",
       "  <thead>\n",
       "    <tr style=\"text-align: right;\">\n",
       "      <th></th>\n",
       "      <th>Star type</th>\n",
       "    </tr>\n",
       "  </thead>\n",
       "  <tbody>\n",
       "    <tr>\n",
       "      <th>0</th>\n",
       "      <td>Pearl Dwarfs</td>\n",
       "    </tr>\n",
       "    <tr>\n",
       "      <th>1</th>\n",
       "      <td>Umber Dwarfs</td>\n",
       "    </tr>\n",
       "    <tr>\n",
       "      <th>2</th>\n",
       "      <td>Aurelian Mainstays</td>\n",
       "    </tr>\n",
       "    <tr>\n",
       "      <th>3</th>\n",
       "      <td>Celestial Sovereigns</td>\n",
       "    </tr>\n",
       "    <tr>\n",
       "      <th>4</th>\n",
       "      <td>Celestial Sovereigns</td>\n",
       "    </tr>\n",
       "    <tr>\n",
       "      <th>5</th>\n",
       "      <td>Cosmic Behemoths</td>\n",
       "    </tr>\n",
       "    <tr>\n",
       "      <th>6</th>\n",
       "      <td>Cosmic Behemoths</td>\n",
       "    </tr>\n",
       "    <tr>\n",
       "      <th>7</th>\n",
       "      <td>Pearl Dwarfs</td>\n",
       "    </tr>\n",
       "    <tr>\n",
       "      <th>8</th>\n",
       "      <td>Umber Dwarfs</td>\n",
       "    </tr>\n",
       "    <tr>\n",
       "      <th>9</th>\n",
       "      <td>Pearl Dwarfs</td>\n",
       "    </tr>\n",
       "    <tr>\n",
       "      <th>10</th>\n",
       "      <td>Celestial Sovereigns</td>\n",
       "    </tr>\n",
       "    <tr>\n",
       "      <th>11</th>\n",
       "      <td>Pearl Dwarfs</td>\n",
       "    </tr>\n",
       "    <tr>\n",
       "      <th>12</th>\n",
       "      <td>Cosmic Behemoths</td>\n",
       "    </tr>\n",
       "    <tr>\n",
       "      <th>13</th>\n",
       "      <td>Celestial Sovereigns</td>\n",
       "    </tr>\n",
       "    <tr>\n",
       "      <th>14</th>\n",
       "      <td>Cosmic Behemoths</td>\n",
       "    </tr>\n",
       "    <tr>\n",
       "      <th>15</th>\n",
       "      <td>Cosmic Behemoths</td>\n",
       "    </tr>\n",
       "    <tr>\n",
       "      <th>16</th>\n",
       "      <td>Umber Dwarfs</td>\n",
       "    </tr>\n",
       "    <tr>\n",
       "      <th>17</th>\n",
       "      <td>Crimson Dwarfs</td>\n",
       "    </tr>\n",
       "    <tr>\n",
       "      <th>18</th>\n",
       "      <td>Aurelian Mainstays</td>\n",
       "    </tr>\n",
       "    <tr>\n",
       "      <th>19</th>\n",
       "      <td>Umber Dwarfs</td>\n",
       "    </tr>\n",
       "    <tr>\n",
       "      <th>20</th>\n",
       "      <td>Umber Dwarfs</td>\n",
       "    </tr>\n",
       "    <tr>\n",
       "      <th>21</th>\n",
       "      <td>Crimson Dwarfs</td>\n",
       "    </tr>\n",
       "    <tr>\n",
       "      <th>22</th>\n",
       "      <td>Cosmic Behemoths</td>\n",
       "    </tr>\n",
       "    <tr>\n",
       "      <th>23</th>\n",
       "      <td>Aurelian Mainstays</td>\n",
       "    </tr>\n",
       "  </tbody>\n",
       "</table>\n",
       "</div>"
      ],
      "text/plain": [
       "               Star type\n",
       "0           Pearl Dwarfs\n",
       "1           Umber Dwarfs\n",
       "2     Aurelian Mainstays\n",
       "3   Celestial Sovereigns\n",
       "4   Celestial Sovereigns\n",
       "5       Cosmic Behemoths\n",
       "6       Cosmic Behemoths\n",
       "7           Pearl Dwarfs\n",
       "8           Umber Dwarfs\n",
       "9           Pearl Dwarfs\n",
       "10  Celestial Sovereigns\n",
       "11          Pearl Dwarfs\n",
       "12      Cosmic Behemoths\n",
       "13  Celestial Sovereigns\n",
       "14      Cosmic Behemoths\n",
       "15      Cosmic Behemoths\n",
       "16          Umber Dwarfs\n",
       "17        Crimson Dwarfs\n",
       "18    Aurelian Mainstays\n",
       "19          Umber Dwarfs\n",
       "20          Umber Dwarfs\n",
       "21        Crimson Dwarfs\n",
       "22      Cosmic Behemoths\n",
       "23    Aurelian Mainstays"
      ]
     },
     "execution_count": 49,
     "metadata": {},
     "output_type": "execute_result"
    }
   ],
   "source": [
    "prediction"
   ]
  },
  {
   "cell_type": "code",
   "execution_count": null,
   "id": "cde13518",
   "metadata": {},
   "outputs": [],
   "source": []
  },
  {
   "cell_type": "code",
   "execution_count": null,
   "id": "21177501",
   "metadata": {},
   "outputs": [],
   "source": []
  },
  {
   "cell_type": "code",
   "execution_count": null,
   "id": "3d50ccbc",
   "metadata": {},
   "outputs": [],
   "source": []
  },
  {
   "cell_type": "code",
   "execution_count": null,
   "id": "10b7b486",
   "metadata": {},
   "outputs": [],
   "source": []
  },
  {
   "cell_type": "code",
   "execution_count": null,
   "id": "bec4e547",
   "metadata": {},
   "outputs": [],
   "source": []
  },
  {
   "cell_type": "code",
   "execution_count": null,
   "id": "1ea727a4",
   "metadata": {},
   "outputs": [],
   "source": []
  },
  {
   "cell_type": "code",
   "execution_count": null,
   "id": "71e42bb1",
   "metadata": {},
   "outputs": [],
   "source": []
  },
  {
   "cell_type": "code",
   "execution_count": null,
   "id": "11b30ac2",
   "metadata": {},
   "outputs": [],
   "source": []
  },
  {
   "cell_type": "code",
   "execution_count": null,
   "id": "3cfa15ca",
   "metadata": {},
   "outputs": [],
   "source": []
  },
  {
   "cell_type": "code",
   "execution_count": null,
   "id": "69866562",
   "metadata": {},
   "outputs": [],
   "source": []
  },
  {
   "cell_type": "code",
   "execution_count": null,
   "id": "070dce53",
   "metadata": {},
   "outputs": [],
   "source": []
  }
 ],
 "metadata": {
  "kernelspec": {
   "display_name": "Python 3 (ipykernel)",
   "language": "python",
   "name": "python3"
  },
  "language_info": {
   "codemirror_mode": {
    "name": "ipython",
    "version": 3
   },
   "file_extension": ".py",
   "mimetype": "text/x-python",
   "name": "python",
   "nbconvert_exporter": "python",
   "pygments_lexer": "ipython3",
   "version": "3.9.12"
  }
 },
 "nbformat": 4,
 "nbformat_minor": 5
}
